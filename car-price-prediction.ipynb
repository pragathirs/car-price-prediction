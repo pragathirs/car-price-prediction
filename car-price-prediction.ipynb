{
 "cells": [
  {
   "cell_type": "code",
   "execution_count": 1,
   "id": "40c4b1a4",
   "metadata": {},
   "outputs": [],
   "source": [
    "import pandas as pd\n",
    "import numpy as np\n",
    "from sklearn.model_selection import train_test_split \n",
    "from sklearn.preprocessing import StandardScaler\n",
    "from sklearn.feature_selection import r_regression\n",
    "from sklearn.metrics import mean_absolute_percentage_error, mean_absolute_error\n",
    "from sklearn.linear_model import LinearRegression"
   ]
  },
  {
   "cell_type": "code",
   "execution_count": 2,
   "id": "4ab06f6b",
   "metadata": {},
   "outputs": [],
   "source": [
    "from sklearn.model_selection import cross_val_score\n",
    "from sklearn.model_selection import RepeatedKFold\n",
    "from sklearn.linear_model import Lasso,Ridge"
   ]
  },
  {
   "cell_type": "markdown",
   "id": "bf77535b",
   "metadata": {},
   "source": [
    "# Toyota Corolla Dataset"
   ]
  },
  {
   "cell_type": "code",
   "execution_count": 3,
   "id": "98b3ec0d",
   "metadata": {},
   "outputs": [],
   "source": [
    "fileloc = './ToyotaCorolla.csv'\n",
    "toyota = pd.read_csv(fileloc) #read the file"
   ]
  },
  {
   "cell_type": "markdown",
   "id": "8e460d25",
   "metadata": {},
   "source": [
    "### Data Pre-processing:"
   ]
  },
  {
   "cell_type": "code",
   "execution_count": 4,
   "id": "97d1a221",
   "metadata": {},
   "outputs": [],
   "source": [
    "toyota= toyota.drop(['Id','Model'], axis = 1) #dropping the first four columns"
   ]
  },
  {
   "cell_type": "code",
   "execution_count": 5,
   "id": "a9fc7f79",
   "metadata": {},
   "outputs": [
    {
     "data": {
      "text/html": [
       "<div>\n",
       "<style scoped>\n",
       "    .dataframe tbody tr th:only-of-type {\n",
       "        vertical-align: middle;\n",
       "    }\n",
       "\n",
       "    .dataframe tbody tr th {\n",
       "        vertical-align: top;\n",
       "    }\n",
       "\n",
       "    .dataframe thead th {\n",
       "        text-align: right;\n",
       "    }\n",
       "</style>\n",
       "<table border=\"1\" class=\"dataframe\">\n",
       "  <thead>\n",
       "    <tr style=\"text-align: right;\">\n",
       "      <th></th>\n",
       "      <th>Price</th>\n",
       "      <th>Age_08_04</th>\n",
       "      <th>Mfg_Month</th>\n",
       "      <th>Mfg_Year</th>\n",
       "      <th>KM</th>\n",
       "      <th>Fuel_Type</th>\n",
       "      <th>HP</th>\n",
       "      <th>Met_Color</th>\n",
       "      <th>Color</th>\n",
       "      <th>Automatic</th>\n",
       "      <th>...</th>\n",
       "      <th>Powered_Windows</th>\n",
       "      <th>Power_Steering</th>\n",
       "      <th>Radio</th>\n",
       "      <th>Mistlamps</th>\n",
       "      <th>Sport_Model</th>\n",
       "      <th>Backseat_Divider</th>\n",
       "      <th>Metallic_Rim</th>\n",
       "      <th>Radio_cassette</th>\n",
       "      <th>Parking_Assistant</th>\n",
       "      <th>Tow_Bar</th>\n",
       "    </tr>\n",
       "  </thead>\n",
       "  <tbody>\n",
       "    <tr>\n",
       "      <th>0</th>\n",
       "      <td>13500</td>\n",
       "      <td>23</td>\n",
       "      <td>10</td>\n",
       "      <td>2002</td>\n",
       "      <td>46986</td>\n",
       "      <td>1</td>\n",
       "      <td>90</td>\n",
       "      <td>1</td>\n",
       "      <td>2</td>\n",
       "      <td>0</td>\n",
       "      <td>...</td>\n",
       "      <td>1</td>\n",
       "      <td>1</td>\n",
       "      <td>0</td>\n",
       "      <td>0</td>\n",
       "      <td>0</td>\n",
       "      <td>1</td>\n",
       "      <td>0</td>\n",
       "      <td>0</td>\n",
       "      <td>0</td>\n",
       "      <td>0</td>\n",
       "    </tr>\n",
       "    <tr>\n",
       "      <th>1</th>\n",
       "      <td>13750</td>\n",
       "      <td>23</td>\n",
       "      <td>10</td>\n",
       "      <td>2002</td>\n",
       "      <td>72937</td>\n",
       "      <td>1</td>\n",
       "      <td>90</td>\n",
       "      <td>1</td>\n",
       "      <td>6</td>\n",
       "      <td>0</td>\n",
       "      <td>...</td>\n",
       "      <td>0</td>\n",
       "      <td>1</td>\n",
       "      <td>0</td>\n",
       "      <td>0</td>\n",
       "      <td>0</td>\n",
       "      <td>1</td>\n",
       "      <td>0</td>\n",
       "      <td>0</td>\n",
       "      <td>0</td>\n",
       "      <td>0</td>\n",
       "    </tr>\n",
       "    <tr>\n",
       "      <th>2</th>\n",
       "      <td>13950</td>\n",
       "      <td>24</td>\n",
       "      <td>9</td>\n",
       "      <td>2002</td>\n",
       "      <td>41711</td>\n",
       "      <td>1</td>\n",
       "      <td>90</td>\n",
       "      <td>1</td>\n",
       "      <td>2</td>\n",
       "      <td>0</td>\n",
       "      <td>...</td>\n",
       "      <td>0</td>\n",
       "      <td>1</td>\n",
       "      <td>0</td>\n",
       "      <td>0</td>\n",
       "      <td>0</td>\n",
       "      <td>1</td>\n",
       "      <td>0</td>\n",
       "      <td>0</td>\n",
       "      <td>0</td>\n",
       "      <td>0</td>\n",
       "    </tr>\n",
       "    <tr>\n",
       "      <th>3</th>\n",
       "      <td>14950</td>\n",
       "      <td>26</td>\n",
       "      <td>7</td>\n",
       "      <td>2002</td>\n",
       "      <td>48000</td>\n",
       "      <td>1</td>\n",
       "      <td>90</td>\n",
       "      <td>0</td>\n",
       "      <td>1</td>\n",
       "      <td>0</td>\n",
       "      <td>...</td>\n",
       "      <td>0</td>\n",
       "      <td>1</td>\n",
       "      <td>0</td>\n",
       "      <td>0</td>\n",
       "      <td>0</td>\n",
       "      <td>1</td>\n",
       "      <td>0</td>\n",
       "      <td>0</td>\n",
       "      <td>0</td>\n",
       "      <td>0</td>\n",
       "    </tr>\n",
       "    <tr>\n",
       "      <th>4</th>\n",
       "      <td>13750</td>\n",
       "      <td>30</td>\n",
       "      <td>3</td>\n",
       "      <td>2002</td>\n",
       "      <td>38500</td>\n",
       "      <td>1</td>\n",
       "      <td>90</td>\n",
       "      <td>0</td>\n",
       "      <td>1</td>\n",
       "      <td>0</td>\n",
       "      <td>...</td>\n",
       "      <td>1</td>\n",
       "      <td>1</td>\n",
       "      <td>0</td>\n",
       "      <td>1</td>\n",
       "      <td>0</td>\n",
       "      <td>1</td>\n",
       "      <td>0</td>\n",
       "      <td>0</td>\n",
       "      <td>0</td>\n",
       "      <td>0</td>\n",
       "    </tr>\n",
       "  </tbody>\n",
       "</table>\n",
       "<p>5 rows × 37 columns</p>\n",
       "</div>"
      ],
      "text/plain": [
       "   Price  Age_08_04  Mfg_Month  Mfg_Year     KM  Fuel_Type  HP  Met_Color  \\\n",
       "0  13500         23         10      2002  46986          1  90          1   \n",
       "1  13750         23         10      2002  72937          1  90          1   \n",
       "2  13950         24          9      2002  41711          1  90          1   \n",
       "3  14950         26          7      2002  48000          1  90          0   \n",
       "4  13750         30          3      2002  38500          1  90          0   \n",
       "\n",
       "   Color  Automatic  ...  Powered_Windows  Power_Steering  Radio  Mistlamps  \\\n",
       "0      2          0  ...                1               1      0          0   \n",
       "1      6          0  ...                0               1      0          0   \n",
       "2      2          0  ...                0               1      0          0   \n",
       "3      1          0  ...                0               1      0          0   \n",
       "4      1          0  ...                1               1      0          1   \n",
       "\n",
       "   Sport_Model  Backseat_Divider  Metallic_Rim  Radio_cassette  \\\n",
       "0            0                 1             0               0   \n",
       "1            0                 1             0               0   \n",
       "2            0                 1             0               0   \n",
       "3            0                 1             0               0   \n",
       "4            0                 1             0               0   \n",
       "\n",
       "   Parking_Assistant  Tow_Bar  \n",
       "0                  0        0  \n",
       "1                  0        0  \n",
       "2                  0        0  \n",
       "3                  0        0  \n",
       "4                  0        0  \n",
       "\n",
       "[5 rows x 37 columns]"
      ]
     },
     "execution_count": 5,
     "metadata": {},
     "output_type": "execute_result"
    }
   ],
   "source": [
    "toyota['Fuel_Type'].replace(['CNG', 'Diesel','Petrol'],\n",
    "                        [0, 1, 2], inplace=True)\n",
    "\n",
    "toyota['Color'].replace(['Beige', 'Black','Blue','Green','Grey','Red','Silver','Violet','White','Yellow'],\n",
    "                        [0, 1,2,3,4,5,6,7,8,9], inplace=True)\n",
    "toyota.head()"
   ]
  },
  {
   "cell_type": "code",
   "execution_count": 6,
   "id": "4378b742",
   "metadata": {},
   "outputs": [
    {
     "data": {
      "text/plain": [
       "Price                0\n",
       "Age_08_04            0\n",
       "Mfg_Month            0\n",
       "Mfg_Year             0\n",
       "KM                   0\n",
       "Fuel_Type            0\n",
       "HP                   0\n",
       "Met_Color            0\n",
       "Color                0\n",
       "Automatic            0\n",
       "CC                   0\n",
       "Doors                0\n",
       "Cylinders            0\n",
       "Gears                0\n",
       "Quarterly_Tax        0\n",
       "Weight               0\n",
       "Mfr_Guarantee        0\n",
       "BOVAG_Guarantee      0\n",
       "Guarantee_Period     0\n",
       "ABS                  0\n",
       "Airbag_1             0\n",
       "Airbag_2             0\n",
       "Airco                0\n",
       "Automatic_airco      0\n",
       "Boardcomputer        0\n",
       "CD_Player            0\n",
       "Central_Lock         0\n",
       "Powered_Windows      0\n",
       "Power_Steering       0\n",
       "Radio                0\n",
       "Mistlamps            0\n",
       "Sport_Model          0\n",
       "Backseat_Divider     0\n",
       "Metallic_Rim         0\n",
       "Radio_cassette       0\n",
       "Parking_Assistant    0\n",
       "Tow_Bar              0\n",
       "dtype: int64"
      ]
     },
     "execution_count": 6,
     "metadata": {},
     "output_type": "execute_result"
    }
   ],
   "source": [
    "toyota.isnull().sum()"
   ]
  },
  {
   "cell_type": "code",
   "execution_count": 7,
   "id": "8216bf87",
   "metadata": {},
   "outputs": [],
   "source": [
    "toyotaStd= StandardScaler()\n",
    "toyotaStd.fit(toyota)\n",
    "toyotaScaled =toyotaStd.transform(toyota)\n",
    "columns_names=toyota.columns"
   ]
  },
  {
   "cell_type": "code",
   "execution_count": 8,
   "id": "b136e46c",
   "metadata": {},
   "outputs": [
    {
     "data": {
      "text/html": [
       "<div>\n",
       "<style scoped>\n",
       "    .dataframe tbody tr th:only-of-type {\n",
       "        vertical-align: middle;\n",
       "    }\n",
       "\n",
       "    .dataframe tbody tr th {\n",
       "        vertical-align: top;\n",
       "    }\n",
       "\n",
       "    .dataframe thead th {\n",
       "        text-align: right;\n",
       "    }\n",
       "</style>\n",
       "<table border=\"1\" class=\"dataframe\">\n",
       "  <thead>\n",
       "    <tr style=\"text-align: right;\">\n",
       "      <th></th>\n",
       "      <th>Price</th>\n",
       "      <th>Age_08_04</th>\n",
       "      <th>Mfg_Month</th>\n",
       "      <th>Mfg_Year</th>\n",
       "      <th>KM</th>\n",
       "      <th>Fuel_Type</th>\n",
       "      <th>HP</th>\n",
       "      <th>Met_Color</th>\n",
       "      <th>Color</th>\n",
       "      <th>Automatic</th>\n",
       "      <th>...</th>\n",
       "      <th>Powered_Windows</th>\n",
       "      <th>Power_Steering</th>\n",
       "      <th>Radio</th>\n",
       "      <th>Mistlamps</th>\n",
       "      <th>Sport_Model</th>\n",
       "      <th>Backseat_Divider</th>\n",
       "      <th>Metallic_Rim</th>\n",
       "      <th>Radio_cassette</th>\n",
       "      <th>Parking_Assistant</th>\n",
       "      <th>Tow_Bar</th>\n",
       "    </tr>\n",
       "  </thead>\n",
       "  <tbody>\n",
       "    <tr>\n",
       "      <th>0</th>\n",
       "      <td>0.763763</td>\n",
       "      <td>-1.771966</td>\n",
       "      <td>1.327576</td>\n",
       "      <td>1.541796</td>\n",
       "      <td>-0.574695</td>\n",
       "      <td>-2.337868</td>\n",
       "      <td>-0.768042</td>\n",
       "      <td>0.694219</td>\n",
       "      <td>-0.890258</td>\n",
       "      <td>-0.242893</td>\n",
       "      <td>...</td>\n",
       "      <td>0.882853</td>\n",
       "      <td>0.15097</td>\n",
       "      <td>-0.41387</td>\n",
       "      <td>-0.588073</td>\n",
       "      <td>-0.654871</td>\n",
       "      <td>0.546235</td>\n",
       "      <td>-0.507388</td>\n",
       "      <td>-0.412716</td>\n",
       "      <td>-0.052852</td>\n",
       "      <td>-0.620293</td>\n",
       "    </tr>\n",
       "    <tr>\n",
       "      <th>1</th>\n",
       "      <td>0.832715</td>\n",
       "      <td>-1.771966</td>\n",
       "      <td>1.327576</td>\n",
       "      <td>1.541796</td>\n",
       "      <td>0.117454</td>\n",
       "      <td>-2.337868</td>\n",
       "      <td>-0.768042</td>\n",
       "      <td>0.694219</td>\n",
       "      <td>1.461923</td>\n",
       "      <td>-0.242893</td>\n",
       "      <td>...</td>\n",
       "      <td>-1.132691</td>\n",
       "      <td>0.15097</td>\n",
       "      <td>-0.41387</td>\n",
       "      <td>-0.588073</td>\n",
       "      <td>-0.654871</td>\n",
       "      <td>0.546235</td>\n",
       "      <td>-0.507388</td>\n",
       "      <td>-0.412716</td>\n",
       "      <td>-0.052852</td>\n",
       "      <td>-0.620293</td>\n",
       "    </tr>\n",
       "    <tr>\n",
       "      <th>2</th>\n",
       "      <td>0.887877</td>\n",
       "      <td>-1.718184</td>\n",
       "      <td>1.029329</td>\n",
       "      <td>1.541796</td>\n",
       "      <td>-0.715386</td>\n",
       "      <td>-2.337868</td>\n",
       "      <td>-0.768042</td>\n",
       "      <td>0.694219</td>\n",
       "      <td>-0.890258</td>\n",
       "      <td>-0.242893</td>\n",
       "      <td>...</td>\n",
       "      <td>-1.132691</td>\n",
       "      <td>0.15097</td>\n",
       "      <td>-0.41387</td>\n",
       "      <td>-0.588073</td>\n",
       "      <td>-0.654871</td>\n",
       "      <td>0.546235</td>\n",
       "      <td>-0.507388</td>\n",
       "      <td>-0.412716</td>\n",
       "      <td>-0.052852</td>\n",
       "      <td>-0.620293</td>\n",
       "    </tr>\n",
       "    <tr>\n",
       "      <th>3</th>\n",
       "      <td>1.163685</td>\n",
       "      <td>-1.610620</td>\n",
       "      <td>0.432833</td>\n",
       "      <td>1.541796</td>\n",
       "      <td>-0.547650</td>\n",
       "      <td>-2.337868</td>\n",
       "      <td>-0.768042</td>\n",
       "      <td>-1.440467</td>\n",
       "      <td>-1.478303</td>\n",
       "      <td>-0.242893</td>\n",
       "      <td>...</td>\n",
       "      <td>-1.132691</td>\n",
       "      <td>0.15097</td>\n",
       "      <td>-0.41387</td>\n",
       "      <td>-0.588073</td>\n",
       "      <td>-0.654871</td>\n",
       "      <td>0.546235</td>\n",
       "      <td>-0.507388</td>\n",
       "      <td>-0.412716</td>\n",
       "      <td>-0.052852</td>\n",
       "      <td>-0.620293</td>\n",
       "    </tr>\n",
       "    <tr>\n",
       "      <th>4</th>\n",
       "      <td>0.832715</td>\n",
       "      <td>-1.395491</td>\n",
       "      <td>-0.760158</td>\n",
       "      <td>1.541796</td>\n",
       "      <td>-0.801028</td>\n",
       "      <td>-2.337868</td>\n",
       "      <td>-0.768042</td>\n",
       "      <td>-1.440467</td>\n",
       "      <td>-1.478303</td>\n",
       "      <td>-0.242893</td>\n",
       "      <td>...</td>\n",
       "      <td>0.882853</td>\n",
       "      <td>0.15097</td>\n",
       "      <td>-0.41387</td>\n",
       "      <td>1.700470</td>\n",
       "      <td>-0.654871</td>\n",
       "      <td>0.546235</td>\n",
       "      <td>-0.507388</td>\n",
       "      <td>-0.412716</td>\n",
       "      <td>-0.052852</td>\n",
       "      <td>-0.620293</td>\n",
       "    </tr>\n",
       "  </tbody>\n",
       "</table>\n",
       "<p>5 rows × 37 columns</p>\n",
       "</div>"
      ],
      "text/plain": [
       "      Price  Age_08_04  Mfg_Month  Mfg_Year        KM  Fuel_Type        HP  \\\n",
       "0  0.763763  -1.771966   1.327576  1.541796 -0.574695  -2.337868 -0.768042   \n",
       "1  0.832715  -1.771966   1.327576  1.541796  0.117454  -2.337868 -0.768042   \n",
       "2  0.887877  -1.718184   1.029329  1.541796 -0.715386  -2.337868 -0.768042   \n",
       "3  1.163685  -1.610620   0.432833  1.541796 -0.547650  -2.337868 -0.768042   \n",
       "4  0.832715  -1.395491  -0.760158  1.541796 -0.801028  -2.337868 -0.768042   \n",
       "\n",
       "   Met_Color     Color  Automatic  ...  Powered_Windows  Power_Steering  \\\n",
       "0   0.694219 -0.890258  -0.242893  ...         0.882853         0.15097   \n",
       "1   0.694219  1.461923  -0.242893  ...        -1.132691         0.15097   \n",
       "2   0.694219 -0.890258  -0.242893  ...        -1.132691         0.15097   \n",
       "3  -1.440467 -1.478303  -0.242893  ...        -1.132691         0.15097   \n",
       "4  -1.440467 -1.478303  -0.242893  ...         0.882853         0.15097   \n",
       "\n",
       "     Radio  Mistlamps  Sport_Model  Backseat_Divider  Metallic_Rim  \\\n",
       "0 -0.41387  -0.588073    -0.654871          0.546235     -0.507388   \n",
       "1 -0.41387  -0.588073    -0.654871          0.546235     -0.507388   \n",
       "2 -0.41387  -0.588073    -0.654871          0.546235     -0.507388   \n",
       "3 -0.41387  -0.588073    -0.654871          0.546235     -0.507388   \n",
       "4 -0.41387   1.700470    -0.654871          0.546235     -0.507388   \n",
       "\n",
       "   Radio_cassette  Parking_Assistant   Tow_Bar  \n",
       "0       -0.412716          -0.052852 -0.620293  \n",
       "1       -0.412716          -0.052852 -0.620293  \n",
       "2       -0.412716          -0.052852 -0.620293  \n",
       "3       -0.412716          -0.052852 -0.620293  \n",
       "4       -0.412716          -0.052852 -0.620293  \n",
       "\n",
       "[5 rows x 37 columns]"
      ]
     },
     "execution_count": 8,
     "metadata": {},
     "output_type": "execute_result"
    }
   ],
   "source": [
    "toyotaScaled =pd.DataFrame(toyotaScaled,columns=columns_names)\n",
    "toyotaScaled.head()"
   ]
  },
  {
   "cell_type": "code",
   "execution_count": 9,
   "id": "a4d50b1a",
   "metadata": {},
   "outputs": [],
   "source": [
    "toyotaScaledX = toyotaScaled.drop('Price',axis=1,inplace=False)\n",
    "toyotaScaledY = toyotaScaled['Price'].values\n",
    "\n",
    "toyotaX_train, toyotaX_test, toyotay_train, toyotay_test = train_test_split(toyotaScaledX, toyotaScaledY, test_size=.25,random_state=1)"
   ]
  },
  {
   "cell_type": "markdown",
   "id": "eacfa487",
   "metadata": {},
   "source": [
    "## 1) Simple Model (1 variable)"
   ]
  },
  {
   "cell_type": "code",
   "execution_count": 10,
   "id": "c5e48bbf",
   "metadata": {},
   "outputs": [],
   "source": [
    "# Define X and y using the airfares Data\n",
    "toyota_SimpleX_train = toyotaX_train[['Boardcomputer']].values\n",
    "toyota_SimpleY_train = toyotay_train\n",
    "toyota_SimpleX_test = toyotaX_test[['Boardcomputer']].values\n",
    "toyota_SimpleY_test = toyotay_test"
   ]
  },
  {
   "cell_type": "code",
   "execution_count": 11,
   "id": "94f8a172",
   "metadata": {},
   "outputs": [
    {
     "data": {
      "text/html": [
       "<style>#sk-container-id-1 {color: black;background-color: white;}#sk-container-id-1 pre{padding: 0;}#sk-container-id-1 div.sk-toggleable {background-color: white;}#sk-container-id-1 label.sk-toggleable__label {cursor: pointer;display: block;width: 100%;margin-bottom: 0;padding: 0.3em;box-sizing: border-box;text-align: center;}#sk-container-id-1 label.sk-toggleable__label-arrow:before {content: \"▸\";float: left;margin-right: 0.25em;color: #696969;}#sk-container-id-1 label.sk-toggleable__label-arrow:hover:before {color: black;}#sk-container-id-1 div.sk-estimator:hover label.sk-toggleable__label-arrow:before {color: black;}#sk-container-id-1 div.sk-toggleable__content {max-height: 0;max-width: 0;overflow: hidden;text-align: left;background-color: #f0f8ff;}#sk-container-id-1 div.sk-toggleable__content pre {margin: 0.2em;color: black;border-radius: 0.25em;background-color: #f0f8ff;}#sk-container-id-1 input.sk-toggleable__control:checked~div.sk-toggleable__content {max-height: 200px;max-width: 100%;overflow: auto;}#sk-container-id-1 input.sk-toggleable__control:checked~label.sk-toggleable__label-arrow:before {content: \"▾\";}#sk-container-id-1 div.sk-estimator input.sk-toggleable__control:checked~label.sk-toggleable__label {background-color: #d4ebff;}#sk-container-id-1 div.sk-label input.sk-toggleable__control:checked~label.sk-toggleable__label {background-color: #d4ebff;}#sk-container-id-1 input.sk-hidden--visually {border: 0;clip: rect(1px 1px 1px 1px);clip: rect(1px, 1px, 1px, 1px);height: 1px;margin: -1px;overflow: hidden;padding: 0;position: absolute;width: 1px;}#sk-container-id-1 div.sk-estimator {font-family: monospace;background-color: #f0f8ff;border: 1px dotted black;border-radius: 0.25em;box-sizing: border-box;margin-bottom: 0.5em;}#sk-container-id-1 div.sk-estimator:hover {background-color: #d4ebff;}#sk-container-id-1 div.sk-parallel-item::after {content: \"\";width: 100%;border-bottom: 1px solid gray;flex-grow: 1;}#sk-container-id-1 div.sk-label:hover label.sk-toggleable__label {background-color: #d4ebff;}#sk-container-id-1 div.sk-serial::before {content: \"\";position: absolute;border-left: 1px solid gray;box-sizing: border-box;top: 0;bottom: 0;left: 50%;z-index: 0;}#sk-container-id-1 div.sk-serial {display: flex;flex-direction: column;align-items: center;background-color: white;padding-right: 0.2em;padding-left: 0.2em;position: relative;}#sk-container-id-1 div.sk-item {position: relative;z-index: 1;}#sk-container-id-1 div.sk-parallel {display: flex;align-items: stretch;justify-content: center;background-color: white;position: relative;}#sk-container-id-1 div.sk-item::before, #sk-container-id-1 div.sk-parallel-item::before {content: \"\";position: absolute;border-left: 1px solid gray;box-sizing: border-box;top: 0;bottom: 0;left: 50%;z-index: -1;}#sk-container-id-1 div.sk-parallel-item {display: flex;flex-direction: column;z-index: 1;position: relative;background-color: white;}#sk-container-id-1 div.sk-parallel-item:first-child::after {align-self: flex-end;width: 50%;}#sk-container-id-1 div.sk-parallel-item:last-child::after {align-self: flex-start;width: 50%;}#sk-container-id-1 div.sk-parallel-item:only-child::after {width: 0;}#sk-container-id-1 div.sk-dashed-wrapped {border: 1px dashed gray;margin: 0 0.4em 0.5em 0.4em;box-sizing: border-box;padding-bottom: 0.4em;background-color: white;}#sk-container-id-1 div.sk-label label {font-family: monospace;font-weight: bold;display: inline-block;line-height: 1.2em;}#sk-container-id-1 div.sk-label-container {text-align: center;}#sk-container-id-1 div.sk-container {/* jupyter's `normalize.less` sets `[hidden] { display: none; }` but bootstrap.min.css set `[hidden] { display: none !important; }` so we also need the `!important` here to be able to override the default hidden behavior on the sphinx rendered scikit-learn.org. See: https://github.com/scikit-learn/scikit-learn/issues/21755 */display: inline-block !important;position: relative;}#sk-container-id-1 div.sk-text-repr-fallback {display: none;}</style><div id=\"sk-container-id-1\" class=\"sk-top-container\"><div class=\"sk-text-repr-fallback\"><pre>LinearRegression()</pre><b>In a Jupyter environment, please rerun this cell to show the HTML representation or trust the notebook. <br />On GitHub, the HTML representation is unable to render, please try loading this page with nbviewer.org.</b></div><div class=\"sk-container\" hidden><div class=\"sk-item\"><div class=\"sk-estimator sk-toggleable\"><input class=\"sk-toggleable__control sk-hidden--visually\" id=\"sk-estimator-id-1\" type=\"checkbox\" checked><label for=\"sk-estimator-id-1\" class=\"sk-toggleable__label sk-toggleable__label-arrow\">LinearRegression</label><div class=\"sk-toggleable__content\"><pre>LinearRegression()</pre></div></div></div></div></div>"
      ],
      "text/plain": [
       "LinearRegression()"
      ]
     },
     "execution_count": 11,
     "metadata": {},
     "output_type": "execute_result"
    }
   ],
   "source": [
    "toyotaModel1 = LinearRegression()\n",
    "toyotaModel1.fit(toyota_SimpleX_train, toyota_SimpleY_train)"
   ]
  },
  {
   "cell_type": "code",
   "execution_count": 12,
   "id": "12478623",
   "metadata": {},
   "outputs": [
    {
     "data": {
      "text/plain": [
       "0.33367768588728397"
      ]
     },
     "execution_count": 12,
     "metadata": {},
     "output_type": "execute_result"
    }
   ],
   "source": [
    "toyotaModel1.score(toyota_SimpleX_train, toyota_SimpleY_train)"
   ]
  },
  {
   "cell_type": "code",
   "execution_count": 13,
   "id": "eeab95ae",
   "metadata": {},
   "outputs": [
    {
     "data": {
      "text/plain": [
       "0.44279372715215637"
      ]
     },
     "execution_count": 13,
     "metadata": {},
     "output_type": "execute_result"
    }
   ],
   "source": [
    "toyotaModel1.score(toyota_SimpleX_test, toyota_SimpleY_test)"
   ]
  },
  {
   "cell_type": "code",
   "execution_count": 14,
   "id": "7967c92c",
   "metadata": {},
   "outputs": [
    {
     "name": "stdout",
     "output_type": "stream",
     "text": [
      "Beta1 = [0.57508366]\n"
     ]
    }
   ],
   "source": [
    "print(\"Beta1 =\", toyotaModel1.coef_)"
   ]
  },
  {
   "cell_type": "code",
   "execution_count": 15,
   "id": "ea7515e0",
   "metadata": {},
   "outputs": [
    {
     "name": "stdout",
     "output_type": "stream",
     "text": [
      "Beta0 = -0.004381412053505673\n"
     ]
    }
   ],
   "source": [
    "print(\"Beta0 =\", toyotaModel1.intercept_)"
   ]
  },
  {
   "cell_type": "markdown",
   "id": "4fbe55a8",
   "metadata": {},
   "source": [
    "Comments:\n",
    "\n",
    "The independent variable 'Boardcomputer' was chosen after testing all independent variables for the one that gave the highest score (R-squared) in the above code lines. \n",
    "\n",
    "A model that is underfit will have high training and high testing error while an overfit model will have extremely low training error but a high testing error. Here in this case, both training and testing data have low R-squared scores . which means the errors are high. When both the training and testing errors are high, the model is UNDERFITTING."
   ]
  },
  {
   "cell_type": "markdown",
   "id": "12cf813b",
   "metadata": {},
   "source": [
    "## 2) Medium Complexity  Model (2 or 3 variables)"
   ]
  },
  {
   "cell_type": "code",
   "execution_count": 16,
   "id": "76f42c9f",
   "metadata": {},
   "outputs": [],
   "source": [
    "# Define X and y using the airfares Data\n",
    "toyota_MediumX_train = toyotaX_train[['KM','Weight','Boardcomputer']].values\n",
    "toyota_MediumY_train = toyotay_train\n",
    "toyota_MediumX_test = toyotaX_test[['KM','Weight','Boardcomputer']].values\n",
    "toyota_MediumY_test = toyotay_test"
   ]
  },
  {
   "cell_type": "code",
   "execution_count": 17,
   "id": "6d30f39c",
   "metadata": {},
   "outputs": [
    {
     "data": {
      "text/html": [
       "<style>#sk-container-id-2 {color: black;background-color: white;}#sk-container-id-2 pre{padding: 0;}#sk-container-id-2 div.sk-toggleable {background-color: white;}#sk-container-id-2 label.sk-toggleable__label {cursor: pointer;display: block;width: 100%;margin-bottom: 0;padding: 0.3em;box-sizing: border-box;text-align: center;}#sk-container-id-2 label.sk-toggleable__label-arrow:before {content: \"▸\";float: left;margin-right: 0.25em;color: #696969;}#sk-container-id-2 label.sk-toggleable__label-arrow:hover:before {color: black;}#sk-container-id-2 div.sk-estimator:hover label.sk-toggleable__label-arrow:before {color: black;}#sk-container-id-2 div.sk-toggleable__content {max-height: 0;max-width: 0;overflow: hidden;text-align: left;background-color: #f0f8ff;}#sk-container-id-2 div.sk-toggleable__content pre {margin: 0.2em;color: black;border-radius: 0.25em;background-color: #f0f8ff;}#sk-container-id-2 input.sk-toggleable__control:checked~div.sk-toggleable__content {max-height: 200px;max-width: 100%;overflow: auto;}#sk-container-id-2 input.sk-toggleable__control:checked~label.sk-toggleable__label-arrow:before {content: \"▾\";}#sk-container-id-2 div.sk-estimator input.sk-toggleable__control:checked~label.sk-toggleable__label {background-color: #d4ebff;}#sk-container-id-2 div.sk-label input.sk-toggleable__control:checked~label.sk-toggleable__label {background-color: #d4ebff;}#sk-container-id-2 input.sk-hidden--visually {border: 0;clip: rect(1px 1px 1px 1px);clip: rect(1px, 1px, 1px, 1px);height: 1px;margin: -1px;overflow: hidden;padding: 0;position: absolute;width: 1px;}#sk-container-id-2 div.sk-estimator {font-family: monospace;background-color: #f0f8ff;border: 1px dotted black;border-radius: 0.25em;box-sizing: border-box;margin-bottom: 0.5em;}#sk-container-id-2 div.sk-estimator:hover {background-color: #d4ebff;}#sk-container-id-2 div.sk-parallel-item::after {content: \"\";width: 100%;border-bottom: 1px solid gray;flex-grow: 1;}#sk-container-id-2 div.sk-label:hover label.sk-toggleable__label {background-color: #d4ebff;}#sk-container-id-2 div.sk-serial::before {content: \"\";position: absolute;border-left: 1px solid gray;box-sizing: border-box;top: 0;bottom: 0;left: 50%;z-index: 0;}#sk-container-id-2 div.sk-serial {display: flex;flex-direction: column;align-items: center;background-color: white;padding-right: 0.2em;padding-left: 0.2em;position: relative;}#sk-container-id-2 div.sk-item {position: relative;z-index: 1;}#sk-container-id-2 div.sk-parallel {display: flex;align-items: stretch;justify-content: center;background-color: white;position: relative;}#sk-container-id-2 div.sk-item::before, #sk-container-id-2 div.sk-parallel-item::before {content: \"\";position: absolute;border-left: 1px solid gray;box-sizing: border-box;top: 0;bottom: 0;left: 50%;z-index: -1;}#sk-container-id-2 div.sk-parallel-item {display: flex;flex-direction: column;z-index: 1;position: relative;background-color: white;}#sk-container-id-2 div.sk-parallel-item:first-child::after {align-self: flex-end;width: 50%;}#sk-container-id-2 div.sk-parallel-item:last-child::after {align-self: flex-start;width: 50%;}#sk-container-id-2 div.sk-parallel-item:only-child::after {width: 0;}#sk-container-id-2 div.sk-dashed-wrapped {border: 1px dashed gray;margin: 0 0.4em 0.5em 0.4em;box-sizing: border-box;padding-bottom: 0.4em;background-color: white;}#sk-container-id-2 div.sk-label label {font-family: monospace;font-weight: bold;display: inline-block;line-height: 1.2em;}#sk-container-id-2 div.sk-label-container {text-align: center;}#sk-container-id-2 div.sk-container {/* jupyter's `normalize.less` sets `[hidden] { display: none; }` but bootstrap.min.css set `[hidden] { display: none !important; }` so we also need the `!important` here to be able to override the default hidden behavior on the sphinx rendered scikit-learn.org. See: https://github.com/scikit-learn/scikit-learn/issues/21755 */display: inline-block !important;position: relative;}#sk-container-id-2 div.sk-text-repr-fallback {display: none;}</style><div id=\"sk-container-id-2\" class=\"sk-top-container\"><div class=\"sk-text-repr-fallback\"><pre>LinearRegression()</pre><b>In a Jupyter environment, please rerun this cell to show the HTML representation or trust the notebook. <br />On GitHub, the HTML representation is unable to render, please try loading this page with nbviewer.org.</b></div><div class=\"sk-container\" hidden><div class=\"sk-item\"><div class=\"sk-estimator sk-toggleable\"><input class=\"sk-toggleable__control sk-hidden--visually\" id=\"sk-estimator-id-2\" type=\"checkbox\" checked><label for=\"sk-estimator-id-2\" class=\"sk-toggleable__label sk-toggleable__label-arrow\">LinearRegression</label><div class=\"sk-toggleable__content\"><pre>LinearRegression()</pre></div></div></div></div></div>"
      ],
      "text/plain": [
       "LinearRegression()"
      ]
     },
     "execution_count": 17,
     "metadata": {},
     "output_type": "execute_result"
    }
   ],
   "source": [
    "toyotaModel2 = LinearRegression()\n",
    "toyotaModel2.fit(toyota_MediumX_train, toyota_MediumY_train)"
   ]
  },
  {
   "cell_type": "code",
   "execution_count": 18,
   "id": "684a1eaa",
   "metadata": {},
   "outputs": [
    {
     "data": {
      "text/plain": [
       "0.7065984986885141"
      ]
     },
     "execution_count": 18,
     "metadata": {},
     "output_type": "execute_result"
    }
   ],
   "source": [
    "toyotaModel2.score(toyota_MediumX_train, toyota_MediumY_train)"
   ]
  },
  {
   "cell_type": "code",
   "execution_count": 19,
   "id": "c92884a1",
   "metadata": {},
   "outputs": [
    {
     "data": {
      "text/plain": [
       "0.7669460212532403"
      ]
     },
     "execution_count": 19,
     "metadata": {},
     "output_type": "execute_result"
    }
   ],
   "source": [
    "toyotaModel2.score(toyota_MediumX_test, toyota_MediumY_test)"
   ]
  },
  {
   "cell_type": "code",
   "execution_count": 20,
   "id": "aa9a6c32",
   "metadata": {},
   "outputs": [
    {
     "name": "stdout",
     "output_type": "stream",
     "text": [
      "Beta1, Beta2, Beta3 = [-0.45716623  0.47182111  0.29953465]\n"
     ]
    }
   ],
   "source": [
    "print(\"Beta1, Beta2, Beta3 =\", toyotaModel2.coef_)"
   ]
  },
  {
   "cell_type": "code",
   "execution_count": 21,
   "id": "3488f342",
   "metadata": {},
   "outputs": [
    {
     "name": "stdout",
     "output_type": "stream",
     "text": [
      "Beta0 =  -0.0064307264624116865\n"
     ]
    }
   ],
   "source": [
    "print(\"Beta0 = \", toyotaModel2.intercept_)"
   ]
  },
  {
   "cell_type": "markdown",
   "id": "6907e843",
   "metadata": {},
   "source": [
    "Comments:\n",
    "\n",
    "In both training and testing, the R-Squared values have considerably increased from the Simple Model (model-1) with single explanatory variable to Medium model( model 2) with more than one explanatory variables. This suggests that the training and testing errors have also reduced from model 1 to model 2. In other words, by increasing the number of variables, the underfitting problem was reduced from model 1 to model 2, therefore the performance is better. But the testing accuracy is higher than the training accuracy, which means that the model is not overfitting and hence there is still scope of adding more variables to the model even better.\n",
    "\n",
    "\n",
    "In model 1, we took just one variable 'Boardcomputer' with the parameter estimate (or co-efficient) as 0.57. In model 2, the co-effecient of 'Boardcomputer' has weightage decreased to 0.29 when taken along with other relevant variables.\n",
    "\n",
    "\n",
    "Let us consider the independent variable 'Weight' that's included in the model. The parameter estimate or the co-efficient of this variable is 0.47 This means it has a positive impact on the Price(dependent variable), i.e, if the weight of the toyota car model is higher, the price of the car is likely to be higher. The logical explanation to this could be because heavier engines might correspond to more number of engines or higher quality equipment (factors that could increase the mileage), hence making the car prices too go up. "
   ]
  },
  {
   "cell_type": "markdown",
   "id": "094324d8",
   "metadata": {},
   "source": [
    "## 3) Lasso Model (all variables)\n"
   ]
  },
  {
   "cell_type": "code",
   "execution_count": 22,
   "id": "865e2cd4",
   "metadata": {},
   "outputs": [],
   "source": [
    "toyota_LassoX = toyotaScaled[['Age_08_04', 'Mfg_Month', 'Mfg_Year', 'KM', 'Fuel_Type', 'HP','Met_Color', 'Color', 'Automatic',\n",
    "                    'CC', 'Doors', 'Cylinders', 'Gears','Quarterly_Tax', 'Weight', 'Mfr_Guarantee', 'BOVAG_Guarantee',\n",
    "                    'Guarantee_Period', 'ABS', 'Airbag_1', 'Airbag_2', 'Airco', 'Automatic_airco', 'Boardcomputer', \n",
    "                    'CD_Player', 'Central_Lock', 'Powered_Windows', 'Power_Steering','Radio', 'Mistlamps','Sport_Model',\n",
    "                    'Backseat_Divider', 'Metallic_Rim', 'Radio_cassette','Parking_Assistant', 'Tow_Bar']].values\n",
    "\n",
    "toyota_LassoY = toyotaScaled['Price'].values"
   ]
  },
  {
   "cell_type": "markdown",
   "id": "1c460dbc",
   "metadata": {},
   "source": []
  },
  {
   "cell_type": "code",
   "execution_count": 23,
   "id": "699df37c",
   "metadata": {},
   "outputs": [
    {
     "data": {
      "text/html": [
       "<style>#sk-container-id-3 {color: black;background-color: white;}#sk-container-id-3 pre{padding: 0;}#sk-container-id-3 div.sk-toggleable {background-color: white;}#sk-container-id-3 label.sk-toggleable__label {cursor: pointer;display: block;width: 100%;margin-bottom: 0;padding: 0.3em;box-sizing: border-box;text-align: center;}#sk-container-id-3 label.sk-toggleable__label-arrow:before {content: \"▸\";float: left;margin-right: 0.25em;color: #696969;}#sk-container-id-3 label.sk-toggleable__label-arrow:hover:before {color: black;}#sk-container-id-3 div.sk-estimator:hover label.sk-toggleable__label-arrow:before {color: black;}#sk-container-id-3 div.sk-toggleable__content {max-height: 0;max-width: 0;overflow: hidden;text-align: left;background-color: #f0f8ff;}#sk-container-id-3 div.sk-toggleable__content pre {margin: 0.2em;color: black;border-radius: 0.25em;background-color: #f0f8ff;}#sk-container-id-3 input.sk-toggleable__control:checked~div.sk-toggleable__content {max-height: 200px;max-width: 100%;overflow: auto;}#sk-container-id-3 input.sk-toggleable__control:checked~label.sk-toggleable__label-arrow:before {content: \"▾\";}#sk-container-id-3 div.sk-estimator input.sk-toggleable__control:checked~label.sk-toggleable__label {background-color: #d4ebff;}#sk-container-id-3 div.sk-label input.sk-toggleable__control:checked~label.sk-toggleable__label {background-color: #d4ebff;}#sk-container-id-3 input.sk-hidden--visually {border: 0;clip: rect(1px 1px 1px 1px);clip: rect(1px, 1px, 1px, 1px);height: 1px;margin: -1px;overflow: hidden;padding: 0;position: absolute;width: 1px;}#sk-container-id-3 div.sk-estimator {font-family: monospace;background-color: #f0f8ff;border: 1px dotted black;border-radius: 0.25em;box-sizing: border-box;margin-bottom: 0.5em;}#sk-container-id-3 div.sk-estimator:hover {background-color: #d4ebff;}#sk-container-id-3 div.sk-parallel-item::after {content: \"\";width: 100%;border-bottom: 1px solid gray;flex-grow: 1;}#sk-container-id-3 div.sk-label:hover label.sk-toggleable__label {background-color: #d4ebff;}#sk-container-id-3 div.sk-serial::before {content: \"\";position: absolute;border-left: 1px solid gray;box-sizing: border-box;top: 0;bottom: 0;left: 50%;z-index: 0;}#sk-container-id-3 div.sk-serial {display: flex;flex-direction: column;align-items: center;background-color: white;padding-right: 0.2em;padding-left: 0.2em;position: relative;}#sk-container-id-3 div.sk-item {position: relative;z-index: 1;}#sk-container-id-3 div.sk-parallel {display: flex;align-items: stretch;justify-content: center;background-color: white;position: relative;}#sk-container-id-3 div.sk-item::before, #sk-container-id-3 div.sk-parallel-item::before {content: \"\";position: absolute;border-left: 1px solid gray;box-sizing: border-box;top: 0;bottom: 0;left: 50%;z-index: -1;}#sk-container-id-3 div.sk-parallel-item {display: flex;flex-direction: column;z-index: 1;position: relative;background-color: white;}#sk-container-id-3 div.sk-parallel-item:first-child::after {align-self: flex-end;width: 50%;}#sk-container-id-3 div.sk-parallel-item:last-child::after {align-self: flex-start;width: 50%;}#sk-container-id-3 div.sk-parallel-item:only-child::after {width: 0;}#sk-container-id-3 div.sk-dashed-wrapped {border: 1px dashed gray;margin: 0 0.4em 0.5em 0.4em;box-sizing: border-box;padding-bottom: 0.4em;background-color: white;}#sk-container-id-3 div.sk-label label {font-family: monospace;font-weight: bold;display: inline-block;line-height: 1.2em;}#sk-container-id-3 div.sk-label-container {text-align: center;}#sk-container-id-3 div.sk-container {/* jupyter's `normalize.less` sets `[hidden] { display: none; }` but bootstrap.min.css set `[hidden] { display: none !important; }` so we also need the `!important` here to be able to override the default hidden behavior on the sphinx rendered scikit-learn.org. See: https://github.com/scikit-learn/scikit-learn/issues/21755 */display: inline-block !important;position: relative;}#sk-container-id-3 div.sk-text-repr-fallback {display: none;}</style><div id=\"sk-container-id-3\" class=\"sk-top-container\"><div class=\"sk-text-repr-fallback\"><pre>Lasso(alpha=0.03)</pre><b>In a Jupyter environment, please rerun this cell to show the HTML representation or trust the notebook. <br />On GitHub, the HTML representation is unable to render, please try loading this page with nbviewer.org.</b></div><div class=\"sk-container\" hidden><div class=\"sk-item\"><div class=\"sk-estimator sk-toggleable\"><input class=\"sk-toggleable__control sk-hidden--visually\" id=\"sk-estimator-id-3\" type=\"checkbox\" checked><label for=\"sk-estimator-id-3\" class=\"sk-toggleable__label sk-toggleable__label-arrow\">Lasso</label><div class=\"sk-toggleable__content\"><pre>Lasso(alpha=0.03)</pre></div></div></div></div></div>"
      ],
      "text/plain": [
       "Lasso(alpha=0.03)"
      ]
     },
     "execution_count": 23,
     "metadata": {},
     "output_type": "execute_result"
    }
   ],
   "source": [
    "toyotaModel3 = Lasso(alpha=0.03)\n",
    "toyotaModel3.fit(toyota_LassoX, toyota_LassoY)"
   ]
  },
  {
   "cell_type": "code",
   "execution_count": 24,
   "id": "255031fd",
   "metadata": {},
   "outputs": [
    {
     "name": "stdout",
     "output_type": "stream",
     "text": [
      " Mean MAPE: -1.135\n"
     ]
    }
   ],
   "source": [
    "# define model evaluation method\n",
    "CrossValidation3 = RepeatedKFold(n_splits=10, n_repeats=3, random_state=1)\n",
    "# evaluate model\n",
    "scores3 = cross_val_score(toyotaModel3, toyota_LassoX, toyota_LassoY, scoring='neg_mean_absolute_percentage_error', cv=CrossValidation3)\n",
    "print(' Mean MAPE: %.3f' % (np.mean(scores3)))"
   ]
  },
  {
   "cell_type": "code",
   "execution_count": 25,
   "id": "7b93462e",
   "metadata": {},
   "outputs": [
    {
     "data": {
      "text/plain": [
       "0.8943508354161968"
      ]
     },
     "execution_count": 25,
     "metadata": {},
     "output_type": "execute_result"
    }
   ],
   "source": [
    "toyotaModel3.score(toyota_LassoX, toyota_LassoY)"
   ]
  },
  {
   "cell_type": "code",
   "execution_count": 26,
   "id": "5bc20127",
   "metadata": {},
   "outputs": [
    {
     "name": "stdout",
     "output_type": "stream",
     "text": [
      "Betas = [-0.10530964  0.          0.48282892 -0.16622966  0.          0.06661109\n",
      "  0.         -0.          0.         -0.          0.          0.\n",
      "  0.          0.00985113  0.17850567  0.01178352  0.01246426  0.01540669\n",
      " -0.          0.         -0.          0.01091543  0.15138309  0.\n",
      "  0.          0.          0.04121983 -0.         -0.          0.\n",
      "  0.01017442  0.          0.00075756 -0.         -0.         -0.        ]\n"
     ]
    }
   ],
   "source": [
    "print(\"Betas =\", toyotaModel3.coef_)"
   ]
  },
  {
   "cell_type": "code",
   "execution_count": 27,
   "id": "ee12cc3d",
   "metadata": {},
   "outputs": [
    {
     "name": "stdout",
     "output_type": "stream",
     "text": [
      "Beta0 = -1.6707081465722428e-15\n"
     ]
    }
   ],
   "source": [
    "print(\"Beta0 =\", toyotaModel3.intercept_)"
   ]
  },
  {
   "cell_type": "markdown",
   "id": "1689c228",
   "metadata": {},
   "source": [
    "By using the Lasso method, we get the coefficients of the following independent variables to be zero and can be dropped from the model.\n",
    "\n",
    "Mfg_Month, Fuel_Type,'Met_Color', 'Color', 'Automatic, 'CC', 'Doors', 'Cylinders', 'Gears, 'ABS', 'Airbag_1', 'Airbag_2','Automatic_airco', 'Boardcomputer, CD_Player', 'Central_Lock', 'Powered_Window, Power_Steering','Radio,'Metallic_Rim', 'Radio_cassette','Parking_Assistant', 'Tow_Bar'\n",
    "                 \n",
    "\n",
    "This could be because of two reasons: (i) some of these variables are umimportant in determining the value of the dependent variable (ii) they are being explained by other variables that have non-zero weights and share a multi-collinearity with these dropped independent variables. "
   ]
  },
  {
   "cell_type": "markdown",
   "id": "15c17d28",
   "metadata": {},
   "source": [
    "## 4) Models Comparision"
   ]
  },
  {
   "cell_type": "code",
   "execution_count": 28,
   "id": "a76a01a7",
   "metadata": {},
   "outputs": [],
   "source": [
    "toyota_SimpleX = toyotaScaled[['Boardcomputer']].values\n",
    "toyota_SimpleY = toyotaScaled['Price'].values\n",
    "toyota_MediumX = toyotaScaled[['KM','Weight','Boardcomputer']].values\n",
    "toyota_MediumY = toyotaScaled['Price'].values"
   ]
  },
  {
   "cell_type": "code",
   "execution_count": 29,
   "id": "762a2ead",
   "metadata": {},
   "outputs": [],
   "source": [
    "toyotaMAPE_Model1 = cross_val_score(toyotaModel1, toyota_SimpleX, toyota_SimpleY, scoring='neg_mean_absolute_percentage_error', cv=CrossValidation3)\n",
    "toyotaMAPE_Model2 = cross_val_score(toyotaModel2, toyota_MediumX, toyota_MediumY, scoring='neg_mean_absolute_percentage_error', cv=CrossValidation3)\n",
    "toyotaMAPE_Model3 = cross_val_score(toyotaModel3, toyota_LassoX, toyota_LassoY, scoring='neg_mean_absolute_percentage_error', cv=CrossValidation3)"
   ]
  },
  {
   "cell_type": "code",
   "execution_count": 30,
   "id": "d38cf487",
   "metadata": {},
   "outputs": [
    {
     "name": "stdout",
     "output_type": "stream",
     "text": [
      "MAPE of Simple Model: -3.189\n",
      "MAPE of Medium Complexity Model: -2.055\n",
      "MAPE of Lasso Model: -1.135\n",
      "\n",
      " Lasso Model gives the least error out of all the three models. \n"
     ]
    }
   ],
   "source": [
    "print('MAPE of Simple Model: %.3f' % (np.mean(toyotaMAPE_Model1)))\n",
    "print('MAPE of Medium Complexity Model: %.3f' % (np.mean(toyotaMAPE_Model2)))\n",
    "print('MAPE of Lasso Model: %.3f' % (np.mean(toyotaMAPE_Model3)))\n",
    "print('\\n Lasso Model gives the least error out of all the three models. ')"
   ]
  },
  {
   "attachments": {
    "image.png": {
     "image/png": "[encoded data removed]"
    }
   },
   "cell_type": "markdown",
   "id": "02ffb1b9",
   "metadata": {},
   "source": [
    "![image.png](attachment:image.png)"
   ]
  },
  {
   "cell_type": "code",
   "execution_count": null,
   "id": "9ec93d12",
   "metadata": {},
   "outputs": [],
   "source": []
  },
  {
   "cell_type": "code",
   "execution_count": null,
   "id": "305da03e",
   "metadata": {},
   "outputs": [],
   "source": []
  }
 ],
 "metadata": {
  "kernelspec": {
   "display_name": "Python 3 (ipykernel)",
   "language": "python",
   "name": "python3"
  },
  "language_info": {
   "codemirror_mode": {
    "name": "ipython",
    "version": 3
   },
   "file_extension": ".py",
   "mimetype": "text/x-python",
   "name": "python",
   "nbconvert_exporter": "python",
   "pygments_lexer": "ipython3",
   "version": "3.9.13"
  }
 },
 "nbformat": 4,
 "nbformat_minor": 5
}
